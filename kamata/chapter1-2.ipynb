{
 "cells": [
  {
   "cell_type": "markdown",
   "metadata": {},
   "source": [
    "### 00. 文字列の逆順 \n",
    "文字列”stressed”の文字を逆に（末尾から先頭に向かって）並べた文字列を得よ．"
   ]
  },
  {
   "cell_type": "code",
   "execution_count": 2,
   "metadata": {},
   "outputs": [
    {
     "name": "stdout",
     "output_type": "stream",
     "text": [
      "['d', 'e', 's', 's', 'e', 'r', 't', 's']\n"
     ]
    }
   ],
   "source": [
    "word = 'stressed'\n",
    "word_reverse = list(reversed(word))\n",
    "print(word_reverse)"
   ]
  },
  {
   "cell_type": "markdown",
   "metadata": {},
   "source": [
    "### 01. 「パタトクカシーー」\n",
    "「パタトクカシーー」という文字列の1,3,5,7文字目を取り出して連結した文字列を得よ．"
   ]
  },
  {
   "cell_type": "code",
   "execution_count": 3,
   "metadata": {},
   "outputs": [
    {
     "name": "stdout",
     "output_type": "stream",
     "text": [
      "パトカー\n"
     ]
    }
   ],
   "source": [
    "text = \"パタトクカシーー\"\n",
    "print(text[0:-1:2])"
   ]
  },
  {
   "cell_type": "markdown",
   "metadata": {},
   "source": [
    "### 03. 円周率\n",
    "“Now I need a drink, alcoholic of course, after the heavy lectures involving quantum mechanics.”という文を単語に分解し，各単語の（アルファベットの）文字数を先頭から出現順に並べたリストを作成せよ．"
   ]
  },
  {
   "cell_type": "code",
   "execution_count": 6,
   "metadata": {},
   "outputs": [
    {
     "name": "stdout",
     "output_type": "stream",
     "text": [
      "['Now', 'I', 'need', 'a', 'drink,', 'alcoholic', 'of', 'course,', 'after', 'the', 'heavy', 'lectures', 'involving', 'quantum', 'mechanics']\n",
      "[3, 1, 4, 1, 6, 9, 2, 7, 5, 3, 5, 8, 9, 7, 9]\n"
     ]
    }
   ],
   "source": [
    "import re\n",
    "sentence = \"Now I need a drink, alcoholic of course, after the heavy lectures involving quantum mechanics.\"\n",
    "splited = re.split('\\s', sentence.replace('.','')) #\\sはスペース区切り\n",
    "print(splited)\n",
    "cntlist = []\n",
    "for i in range(0, len(splited)):\n",
    "    cntlist.insert(i, len(splited[i])) #insert(位置、挿入する要素)\n",
    "print(cntlist)"
   ]
  },
  {
   "cell_type": "markdown",
   "metadata": {},
   "source": [
    "### 04. 元素記号\n",
    "“Hi He Lied Because Boron Could Not Oxidize Fluorine. New Nations Might Also Sign Peace Security Clause. Arthur King Can.”という文を単語に分解し，1, 5, 6, 7, 8, 9, 15, 16, 19番目の単語は先頭の1文字，それ以外の単語は先頭の2文字を取り出し，取り出した文字列から単語の位置（先頭から何番目の単語か）への連想配列（辞書型もしくはマップ型）を作成せよ．"
   ]
  },
  {
   "cell_type": "code",
   "execution_count": 13,
   "metadata": {},
   "outputs": [
    {
     "name": "stdout",
     "output_type": "stream",
     "text": [
      "{'H': 1, 'He': 2, 'Li': 3, 'Be': 4, 'B': 5, 'C': 6, 'N': 7, 'O': 8, 'F': 9, 'Ne': 10, 'Na': 11, 'Mi': 12, 'Al': 13, 'Si': 14, 'P': 15, 'S': 16, 'Cl': 17, 'Ar': 18, 'K': 19, 'Ca': 20}\n"
     ]
    }
   ],
   "source": [
    "str = 'Hi He Lied Because Boron Could Not Oxidize Fluorine. New Nations Might Also Sign Peace Security Clause. Arthur King Can.'\n",
    "splits = str.split() #split,引数を省略したデフォルトでは空白文字で分割する。\n",
    "one_ch = [1,5,6,7,8,9,15,16,19]\n",
    "ans = {} #辞書型の定義\n",
    "for i, word in enumerate(splits): #forループでインデックスを取得できるenumerate()関数\n",
    "    if i + 1 in one_ch:\n",
    "        ans[word[:1]] = i + 1 #??なぜ[word[:1]]とリスト形式にするのか？\n",
    "    else:\n",
    "        ans[word[:2]] = i + 1\n",
    "    \n",
    "print(ans)"
   ]
  },
  {
   "cell_type": "markdown",
   "metadata": {},
   "source": [
    "### 05. n-gram\n",
    "与えられたシーケンス（文字列やリストなど）からn-gramを作る関数を作成せよ．この関数を用い，”I am an NLPer”という文から単語bi-gram，文字bi-gramを得よ．"
   ]
  },
  {
   "cell_type": "code",
   "execution_count": 20,
   "metadata": {},
   "outputs": [
    {
     "name": "stdout",
     "output_type": "stream",
     "text": [
      "['I', ' ', 'a', 'm', ' ', 'a', 'n', ' ', 'N', 'L', 'P', 'e', 'r']\n",
      "['I ', ' a', 'am', 'm ', ' a', 'an', 'n ', ' N', 'NL', 'LP', 'Pe', 'er']\n",
      "['I a', ' am', 'am ', 'm a', ' an', 'an ', 'n N', ' NL', 'NLP', 'LPe', 'Per']\n",
      "[['I'], ['am'], ['an'], ['NLPer']]\n",
      "[['I', 'am'], ['am', 'an'], ['an', 'NLPer']]\n",
      "[['I', 'am', 'an'], ['am', 'an', 'NLPer']]\n"
     ]
    }
   ],
   "source": [
    "def n_gram(target, n, mode='char'):\n",
    "   \n",
    "    if mode == 'char':\n",
    "        pass\n",
    "    elif mode == 'word':\n",
    "        target = target.split()\n",
    "        \n",
    "    return [ target[idx:idx + n] for idx in range(len(target) - n + 1)] \n",
    "\n",
    "target = \"I am an NLPer\"\n",
    "print(n_gram(target,1))\n",
    "print(n_gram(target,2))\n",
    "print(n_gram(target,3))\n",
    "\n",
    "word = target.split()\n",
    "print(n_gram(word, 1))\n",
    "print(n_gram(word, 2))\n",
    "print(n_gram(word, 3))"
   ]
  },
  {
   "cell_type": "markdown",
   "metadata": {},
   "source": [
    "### 06. 集合\n",
    "“paraparaparadise”と”paragraph”に含まれる文字bi-gramの集合を，それぞれ, XとYとして求め，XとYの和集合，積集合，差集合を求めよ．さらに，’se’というbi-gramがXおよびYに含まれるかどうかを調べよ．"
   ]
  },
  {
   "cell_type": "code",
   "execution_count": 33,
   "metadata": {},
   "outputs": [
    {
     "name": "stdout",
     "output_type": "stream",
     "text": [
      "x: {'is', 'ar', 'di', 'ra', 'ad', 'pa', 'ap', 'se'}\n",
      "y: {'ph', 'ar', 'ag', 'ra', 'pa', 'ap', 'gr'}\n",
      "和集合: {'ph', 'is', 'ar', 'ag', 'di', 'gr', 'ra', 'ad', 'pa', 'ap', 'se'}\n",
      "積集合: {'ar', 'pa', 'ap', 'ra'}\n",
      "差集合: {'ad', 'di', 'se', 'is'}\n",
      "xにseが含まれるか: True\n",
      "yにseが含まれるか: False\n"
     ]
    }
   ],
   "source": [
    "def n_gram(target, n):\n",
    "    return[target[idx:idx + n] for idx in range(len(target) - n + 1)]\n",
    "target1 = \"paraparaparadise\"\n",
    "target2 = \"paragraph\"\n",
    "x = set(n_gram(target1, 2))\n",
    "y = set(n_gram(target2, 2))\n",
    "union = x | y #和集合\n",
    "intersection = x & y #積集合\n",
    "difference = x - y #差集合\n",
    "\n",
    "print('x:', x)\n",
    "print('y:', y)\n",
    "print('和集合:',union)\n",
    "print('積集合:',intersection)\n",
    "print('差集合:',difference)\n",
    "print('xにseが含まれるか:', ({'se'} <= x)) #x <= y (x は y と等しいか小さい)\n",
    "print('yにseが含まれるか:',({'se'} <= y)) "
   ]
  },
  {
   "cell_type": "markdown",
   "metadata": {},
   "source": [
    "### 07. テンプレートによる文生成\n",
    "引数x, y, zを受け取り「x時のyはz」という文字列を返す関数を実装せよ．さらに，x=12, y=”気温”, z=22.4として，実行結果を確認せよ．"
   ]
  },
  {
   "cell_type": "code",
   "execution_count": 2,
   "metadata": {},
   "outputs": [
    {
     "name": "stdout",
     "output_type": "stream",
     "text": [
      "12時のとき気温は22.4\n"
     ]
    }
   ],
   "source": [
    "def generate_sentence(x,y,z):\n",
    "    print(f'{x}時のとき{y}は{z}')\n",
    "\n",
    "generate_sentence(12,'気温',22.4)"
   ]
  },
  {
   "cell_type": "markdown",
   "metadata": {},
   "source": [
    "### 08. 暗号文\n",
    "与えられた文字列の各文字を，以下の仕様で変換する関数cipherを実装せよ．\n",
    "\n",
    "・英小文字ならば(219 - 文字コード)の文字に置換\n",
    "<br>\n",
    "・その他の文字はそのまま出力\n",
    "<br>\n",
    "この関数を用い，英語のメッセージを暗号化・復号化せよ．"
   ]
  },
  {
   "cell_type": "code",
   "execution_count": 20,
   "metadata": {},
   "outputs": [
    {
     "name": "stdout",
     "output_type": "stream",
     "text": [
      "\n",
      "I dzmg gl vzg z hfhsr\n"
     ]
    }
   ],
   "source": [
    "def ciper(str): #暗号化する関数\n",
    "    sentencelist = []\n",
    "    result = ''\n",
    "    sentence = 'I want to eat a sushi'\n",
    "    print(result)\n",
    "    \n",
    "    for i in range(0,len(sentence)):\n",
    "        if sentence[i].islower():  #islower()・・文字列全てが小文字かどうか判定 \n",
    "            sentencelist.insert(i, chr(219 - ord(sentence[i]))) \n",
    "        else :\n",
    "            sentencelist.insert(i, sentence[i])\n",
    "\n",
    "    for ii in range(0, len(sentence)):\n",
    "        result += sentencelist[ii]\n",
    "\n",
    "    return result\n",
    "\n",
    "print(ciper(str))"
   ]
  },
  {
   "cell_type": "markdown",
   "metadata": {},
   "source": [
    "### 09. Typoglycemia\n",
    "スペースで区切られた単語列に対して，各単語の先頭と末尾の文字は残し，それ以外の文字の順序をランダムに並び替えるプログラムを作成せよ．ただし，長さが４以下の単語は並び替えないこととする．適当な英語の文（例えば”I couldn’t believe that I could actually understand what I was reading : the phenomenal power of the human mind .”）を与え，その実行結果を確認せよ．"
   ]
  },
  {
   "cell_type": "code",
   "execution_count": null,
   "metadata": {},
   "outputs": [],
   "source": [
    "#text"
   ]
  }
 ],
 "metadata": {
  "kernelspec": {
   "display_name": "Python 3",
   "language": "python",
   "name": "python3"
  },
  "language_info": {
   "codemirror_mode": {
    "name": "ipython",
    "version": 3
   },
   "file_extension": ".py",
   "mimetype": "text/x-python",
   "name": "python",
   "nbconvert_exporter": "python",
   "pygments_lexer": "ipython3",
   "version": "3.8.2"
  }
 },
 "nbformat": 4,
 "nbformat_minor": 4
}
