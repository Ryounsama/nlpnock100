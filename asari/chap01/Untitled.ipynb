{
 "cells": [
  {
   "cell_type": "code",
   "execution_count": 11,
   "metadata": {},
   "outputs": [
    {
     "name": "stdout",
     "output_type": "stream",
     "text": [
      "[3, 1, 4, 1, 6, 9, 2, 7, 5, 3, 5, 8, 9, 7, 10]\n"
     ]
    }
   ],
   "source": [
    "str =\"Now I need a drink, alcoholic of course, after the heavy lectures involving quantum mechanics.\"\n",
    "splits = str.split()\n",
    "ans = [len(i) for i in splits]\n",
    "print(ans)"
   ]
  },
  {
   "cell_type": "code",
   "execution_count": 14,
   "metadata": {},
   "outputs": [
    {
     "name": "stdout",
     "output_type": "stream",
     "text": [
      "['Hi', 'He', 'Lied', 'Because', 'Boron', 'Could', 'Not', 'Oxidize', 'Fluorine.', 'New', 'Nations', 'Might', 'Also', 'Sign', 'Peace', 'Security', 'Clause.', 'Arthur', 'King', 'Can.']\n"
     ]
    }
   ],
   "source": [
    "str = \"Hi He Lied Because Boron Could Not Oxidize Fluorine. New Nations Might Also Sign Peace Security Clause. Arthur King Can.\"\n",
    "splits = str.split()\n",
    "print(splits)"
   ]
  },
  {
   "cell_type": "code",
   "execution_count": 19,
   "metadata": {},
   "outputs": [],
   "source": [
    "import re\n",
    "sp_indexes = (1,5,6,7,8,9,15,16,19)\n",
    "sentence=\"Hi He Lied Because Boron Could Not Oxidize Fluorine. New Nations Might Also Sign Peace Security Clause. Arthur King Can.\"\n",
    "ans = {}\n",
    "for i,"
   ]
  },
  {
   "cell_type": "code",
   "execution_count": 20,
   "metadata": {},
   "outputs": [
    {
     "name": "stdout",
     "output_type": "stream",
     "text": [
      "単語bi-gram: [('I', 'am'), ('am', 'an'), ('an', 'NLPer')]\n",
      "文字bi-gram: [('I', ' '), (' ', 'a'), ('a', 'm'), ('m', ' '), (' ', 'a'), ('a', 'n'), ('n', ' '), (' ', 'N'), ('N', 'L'), ('L', 'P'), ('P', 'e'), ('e', 'r')]\n"
     ]
    }
   ],
   "source": [
    "def ngram(n,lst):\n",
    "      return list(zip(*[lst[i:] for i in range(n)]))\n",
    "\n",
    "str = 'I am an NLPer'\n",
    "words_bi_gram = ngram(2, str.split())\n",
    "chars_bi_gram = ngram(2, str)\n",
    "\n",
    "print('単語bi-gram:', words_bi_gram)\n",
    "print('文字bi-gram:', chars_bi_gram)\n"
   ]
  },
  {
   "cell_type": "code",
   "execution_count": 25,
   "metadata": {},
   "outputs": [
    {
     "name": "stdout",
     "output_type": "stream",
     "text": [
      "{('a', 'r'), ('a', 'p'), ('d', 'i'), ('p', 'a'), ('i', 's'), ('s', 'e'), ('r', 'a'), ('a', 'd')} {('a', 'r'), ('a', 'p'), ('p', 'h'), ('g', 'r'), ('p', 'a'), ('a', 'g'), ('r', 'a')}\n",
      "{('a', 'r'), ('a', 'p'), ('d', 'i'), ('p', 'h'), ('g', 'r'), ('p', 'a'), ('i', 's'), ('s', 'e'), ('a', 'g'), ('r', 'a'), ('a', 'd')}\n",
      "{('r', 'a'), ('a', 'p'), ('a', 'r'), ('p', 'a')}\n",
      "{('i', 's'), ('s', 'e'), ('d', 'i'), ('a', 'd')}\n"
     ]
    }
   ],
   "source": [
    "str1 = \"paraparaparadise\"\n",
    "str2 = \"paragraph\"\n",
    "\n",
    "X = set(ngram(2,str1))\n",
    "Y = set(ngram(2,str2))\n",
    "\n",
    "print(X,Y)\n",
    "\n",
    "union = X | Y\n",
    "intersection = X & Y\n",
    "difference = X-Y\n",
    "\n",
    "print(union)\n",
    "print(intersection)\n",
    "print(difference)\n",
    "\n",
    "\n"
   ]
  },
  {
   "cell_type": "code",
   "execution_count": null,
   "metadata": {},
   "outputs": [],
   "source": [
    "def ngram(S,n):\n",
    "    r = []\n",
    "    for i in range "
   ]
  }
 ],
 "metadata": {
  "kernelspec": {
   "display_name": "Python 3",
   "language": "python",
   "name": "python3"
  },
  "language_info": {
   "codemirror_mode": {
    "name": "ipython",
    "version": 3
   },
   "file_extension": ".py",
   "mimetype": "text/x-python",
   "name": "python",
   "nbconvert_exporter": "python",
   "pygments_lexer": "ipython3",
   "version": "3.6.3"
  }
 },
 "nbformat": 4,
 "nbformat_minor": 2
}
